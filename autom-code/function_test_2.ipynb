{
 "cells": [
  {
   "cell_type": "markdown",
   "id": "fed68b97",
   "metadata": {},
   "source": [
    "# Análisis de biodiversidad automatizado\n",
    "    Este cuaderno de Jupyter de contiene el flujo de trabajo automatizado para la visualización de los datos de la composición de una comunidad microbiana para la metabarcodificación usando amplicones. \n",
    "    \n",
    "    En esta sección se encuentra el llamado de las funciones creadas en el el arivho \"fuctions.r\". Además, se detallan las instrucciones para la obtención de graficos de análisis de diversidad."
   ]
  },
  {
   "cell_type": "markdown",
   "id": "7ab580bc",
   "metadata": {},
   "source": [
    "## Requisitos a tener en cuenta: \n",
    "    Identificar la la ruta o dirección de la caperta que contiene a los siguentes archivos:\n",
    "        Tabla de metadatos\n",
    "        Tabla de taxonomía\n",
    "        Tabla de conteos de OTUs/ASVs/TaxID\n",
    "        \n",
    "    Identificar la la ruta o dirección de la caperta que contiene a los siguentes archivos:\n",
    "        Script de R que contenga las Funciones requeridas (functions.r)\n",
    "        Script de jupyter que contenga el llamado de las funciones (este archivo)\n",
    "    "
   ]
  },
  {
   "cell_type": "code",
   "execution_count": 2,
   "id": "b0ae4138",
   "metadata": {},
   "outputs": [],
   "source": [
    "#opción 1"
   ]
  },
  {
   "cell_type": "code",
   "execution_count": 3,
   "id": "1949d353",
   "metadata": {},
   "outputs": [],
   "source": [
    "#current_path <- getwd()\n",
    "#file_path <- file.path(current_path)\n",
    "#source(file.path(file_path, \"only_functions.r\")) #lee un archvio de otro script de R en el script actual"
   ]
  },
  {
   "cell_type": "code",
   "execution_count": 4,
   "id": "59f0b32d",
   "metadata": {},
   "outputs": [],
   "source": [
    "#opción 2"
   ]
  },
  {
   "cell_type": "code",
   "execution_count": null,
   "id": "af7b9806",
   "metadata": {},
   "outputs": [],
   "source": []
  },
  {
   "cell_type": "code",
   "execution_count": null,
   "id": "92b59596",
   "metadata": {},
   "outputs": [],
   "source": []
  },
  {
   "cell_type": "markdown",
   "id": "800b066c",
   "metadata": {},
   "source": [
    "Primero conoceremos la ruta en la cual no encontramos ubicados. Usando la función de R getwd()"
   ]
  },
  {
   "cell_type": "code",
   "execution_count": 1,
   "id": "84894e28",
   "metadata": {},
   "outputs": [
    {
     "data": {
      "text/html": [
       "'C:/Users/51982/Desktop/23S_test/code'"
      ],
      "text/latex": [
       "'C:/Users/51982/Desktop/23S\\_test/code'"
      ],
      "text/markdown": [
       "'C:/Users/51982/Desktop/23S_test/code'"
      ],
      "text/plain": [
       "[1] \"C:/Users/51982/Desktop/23S_test/code\""
      ]
     },
     "metadata": {},
     "output_type": "display_data"
    }
   ],
   "source": [
    "getwd()"
   ]
  },
  {
   "cell_type": "markdown",
   "id": "33b1e001",
   "metadata": {},
   "source": [
    "Luego, se llamará al script de R que contiene las funciones (.r)"
   ]
  },
  {
   "cell_type": "code",
   "execution_count": 2,
   "id": "8e768f73",
   "metadata": {},
   "outputs": [],
   "source": [
    "source('C:/Users/51982/Desktop/23S_test/code/functions.r')#Cambiar la ruta por la ruta que contiene al arichivo funtions.r\n"
   ]
  },
  {
   "cell_type": "markdown",
   "id": "b8216bc6",
   "metadata": {},
   "source": [
    "Con la función \"load_packages\" se cargarán los paquetes a usar en esa sección:\n",
    "- tidyverse\n",
    "- phyloseq\n",
    "- DESeq2\n",
    "- dendextend\n",
    "- viridis\n",
    "- ampvis2\n",
    "- data.table\n",
    "    "
   ]
  },
  {
   "cell_type": "code",
   "execution_count": 4,
   "id": "15b28075",
   "metadata": {
    "scrolled": false
   },
   "outputs": [
    {
     "data": {
      "text/html": [
       "<ol>\n",
       "\t<li>TRUE</li>\n",
       "\t<li>TRUE</li>\n",
       "\t<li>TRUE</li>\n",
       "\t<li>TRUE</li>\n",
       "\t<li>TRUE</li>\n",
       "\t<li>TRUE</li>\n",
       "\t<li>TRUE</li>\n",
       "</ol>\n"
      ],
      "text/latex": [
       "\\begin{enumerate}\n",
       "\\item TRUE\n",
       "\\item TRUE\n",
       "\\item TRUE\n",
       "\\item TRUE\n",
       "\\item TRUE\n",
       "\\item TRUE\n",
       "\\item TRUE\n",
       "\\end{enumerate}\n"
      ],
      "text/markdown": [
       "1. TRUE\n",
       "2. TRUE\n",
       "3. TRUE\n",
       "4. TRUE\n",
       "5. TRUE\n",
       "6. TRUE\n",
       "7. TRUE\n",
       "\n",
       "\n"
      ],
      "text/plain": [
       "[[1]]\n",
       "[1] TRUE\n",
       "\n",
       "[[2]]\n",
       "[1] TRUE\n",
       "\n",
       "[[3]]\n",
       "[1] TRUE\n",
       "\n",
       "[[4]]\n",
       "[1] TRUE\n",
       "\n",
       "[[5]]\n",
       "[1] TRUE\n",
       "\n",
       "[[6]]\n",
       "[1] TRUE\n",
       "\n",
       "[[7]]\n",
       "[1] TRUE\n"
      ]
     },
     "metadata": {},
     "output_type": "display_data"
    }
   ],
   "source": [
    "load_packages()"
   ]
  },
  {
   "cell_type": "code",
   "execution_count": 4,
   "id": "3b430912",
   "metadata": {},
   "outputs": [],
   "source": [
    "#Cambiar direcciones de acuerdo a la dirección donde se situan tus arichivos: direccion/de/la/metadatadaoral/formato/.csv"
   ]
  },
  {
   "cell_type": "code",
   "execution_count": 5,
   "id": "679029f6",
   "metadata": {
    "scrolled": true
   },
   "outputs": [],
   "source": [
    "sample_info_tab <- load_sample_info_tab(\"C:/Users/51982/Desktop/23S_test/files/metadata_pantanos.csv\")"
   ]
  },
  {
   "cell_type": "code",
   "execution_count": 6,
   "id": "2f9c66b7",
   "metadata": {},
   "outputs": [
    {
     "data": {
      "text/html": [
       "<table class=\"dataframe\">\n",
       "<caption>A data.frame: 6 × 4</caption>\n",
       "<thead>\n",
       "\t<tr><th></th><th scope=col>CODE</th><th scope=col>TYPE</th><th scope=col>COLOUR</th><th scope=col>color</th></tr>\n",
       "\t<tr><th></th><th scope=col>&lt;chr&gt;</th><th scope=col>&lt;chr&gt;</th><th scope=col>&lt;chr&gt;</th><th scope=col>&lt;chr&gt;</th></tr>\n",
       "</thead>\n",
       "<tbody>\n",
       "\t<tr><th scope=row>PAN1A</th><td>P1A</td><td>ZONE1</td><td>#FFC0CB</td><td>#FFC0CB</td></tr>\n",
       "\t<tr><th scope=row>PAN1B</th><td>P1B</td><td>ZONE1</td><td>#FFC0CB</td><td>#FFC0CB</td></tr>\n",
       "\t<tr><th scope=row>PAN1C</th><td>P1C</td><td>ZONE1</td><td>#FFC0CB</td><td>#FFC0CB</td></tr>\n",
       "\t<tr><th scope=row>PAN2A</th><td>P2A</td><td>ZONE2</td><td>#00FF00</td><td>#00FF00</td></tr>\n",
       "\t<tr><th scope=row>PAN2B</th><td>P2B</td><td>ZONE2</td><td>#00FF00</td><td>#00FF00</td></tr>\n",
       "\t<tr><th scope=row>PAN2C</th><td>P2C</td><td>ZONE2</td><td>#00FF00</td><td>#00FF00</td></tr>\n",
       "</tbody>\n",
       "</table>\n"
      ],
      "text/latex": [
       "A data.frame: 6 × 4\n",
       "\\begin{tabular}{r|llll}\n",
       "  & CODE & TYPE & COLOUR & color\\\\\n",
       "  & <chr> & <chr> & <chr> & <chr>\\\\\n",
       "\\hline\n",
       "\tPAN1A & P1A & ZONE1 & \\#FFC0CB & \\#FFC0CB\\\\\n",
       "\tPAN1B & P1B & ZONE1 & \\#FFC0CB & \\#FFC0CB\\\\\n",
       "\tPAN1C & P1C & ZONE1 & \\#FFC0CB & \\#FFC0CB\\\\\n",
       "\tPAN2A & P2A & ZONE2 & \\#00FF00 & \\#00FF00\\\\\n",
       "\tPAN2B & P2B & ZONE2 & \\#00FF00 & \\#00FF00\\\\\n",
       "\tPAN2C & P2C & ZONE2 & \\#00FF00 & \\#00FF00\\\\\n",
       "\\end{tabular}\n"
      ],
      "text/markdown": [
       "\n",
       "A data.frame: 6 × 4\n",
       "\n",
       "| <!--/--> | CODE &lt;chr&gt; | TYPE &lt;chr&gt; | COLOUR &lt;chr&gt; | color &lt;chr&gt; |\n",
       "|---|---|---|---|---|\n",
       "| PAN1A | P1A | ZONE1 | #FFC0CB | #FFC0CB |\n",
       "| PAN1B | P1B | ZONE1 | #FFC0CB | #FFC0CB |\n",
       "| PAN1C | P1C | ZONE1 | #FFC0CB | #FFC0CB |\n",
       "| PAN2A | P2A | ZONE2 | #00FF00 | #00FF00 |\n",
       "| PAN2B | P2B | ZONE2 | #00FF00 | #00FF00 |\n",
       "| PAN2C | P2C | ZONE2 | #00FF00 | #00FF00 |\n",
       "\n"
      ],
      "text/plain": [
       "      CODE TYPE  COLOUR  color  \n",
       "PAN1A P1A  ZONE1 #FFC0CB #FFC0CB\n",
       "PAN1B P1B  ZONE1 #FFC0CB #FFC0CB\n",
       "PAN1C P1C  ZONE1 #FFC0CB #FFC0CB\n",
       "PAN2A P2A  ZONE2 #00FF00 #00FF00\n",
       "PAN2B P2B  ZONE2 #00FF00 #00FF00\n",
       "PAN2C P2C  ZONE2 #00FF00 #00FF00"
      ]
     },
     "metadata": {},
     "output_type": "display_data"
    }
   ],
   "source": [
    "head(sample_info_tab)"
   ]
  },
  {
   "cell_type": "code",
   "execution_count": 119,
   "id": "e7bf77fb",
   "metadata": {},
   "outputs": [],
   "source": [
    "#Cambiar direcciones de acuerdo a la dirección donde se situan tus arichivos: direccion/de/la/tabla/de/conteo/formato/.tsv"
   ]
  },
  {
   "cell_type": "code",
   "execution_count": 12,
   "id": "e7f9ed3f",
   "metadata": {},
   "outputs": [],
   "source": [
    "count_tab <- load_count_tab(\"C:/Users/51982/Desktop/23S_test/files/ASVs_clean.tsv\")"
   ]
  },
  {
   "cell_type": "code",
   "execution_count": 13,
   "id": "29f60012",
   "metadata": {},
   "outputs": [
    {
     "data": {
      "text/html": [
       "<table class=\"dataframe\">\n",
       "<caption>A matrix: 6 × 15 of type int</caption>\n",
       "<thead>\n",
       "\t<tr><th></th><th scope=col>PAN1A</th><th scope=col>PAN1B</th><th scope=col>PAN1C</th><th scope=col>PAN2A</th><th scope=col>PAN2B</th><th scope=col>PAN2C</th><th scope=col>PAN3A</th><th scope=col>PAN3B</th><th scope=col>PAN3C</th><th scope=col>PAN4A</th><th scope=col>PAN4B</th><th scope=col>PAN4C</th><th scope=col>PAN5A</th><th scope=col>PAN5B</th><th scope=col>PAN5C</th></tr>\n",
       "</thead>\n",
       "<tbody>\n",
       "\t<tr><th scope=row>ASV_6</th><td>  0</td><td>  0</td><td>   0</td><td>   0</td><td>  0</td><td>  0</td><td>   0</td><td>   0</td><td>  0</td><td>   0</td><td>   0</td><td>   0</td><td>  0</td><td>  0</td><td>  0</td></tr>\n",
       "\t<tr><th scope=row>ASV_11</th><td>340</td><td>435</td><td>1541</td><td>   0</td><td>536</td><td>671</td><td> 185</td><td> 313</td><td>241</td><td> 491</td><td>1035</td><td> 549</td><td>389</td><td>395</td><td>208</td></tr>\n",
       "\t<tr><th scope=row>ASV_13</th><td>  0</td><td>  0</td><td>2067</td><td>   0</td><td>  0</td><td>  0</td><td>2729</td><td>4199</td><td>  0</td><td>   0</td><td>   0</td><td>   0</td><td>  0</td><td>  0</td><td>  0</td></tr>\n",
       "\t<tr><th scope=row>ASV_21</th><td>  0</td><td>  0</td><td>1327</td><td>   0</td><td>  0</td><td>  0</td><td> 811</td><td>   0</td><td> 25</td><td>1655</td><td> 473</td><td> 337</td><td>140</td><td>147</td><td>198</td></tr>\n",
       "\t<tr><th scope=row>ASV_22</th><td>  0</td><td>  0</td><td>   0</td><td>4764</td><td>  0</td><td>  0</td><td>   0</td><td>   0</td><td>  0</td><td>   0</td><td>   0</td><td>   0</td><td>  0</td><td>  0</td><td>  0</td></tr>\n",
       "\t<tr><th scope=row>ASV_25</th><td> 65</td><td> 35</td><td> 783</td><td>   0</td><td>  0</td><td> 77</td><td>   0</td><td>   0</td><td>  0</td><td> 479</td><td> 229</td><td>2219</td><td>  0</td><td>159</td><td>107</td></tr>\n",
       "</tbody>\n",
       "</table>\n"
      ],
      "text/latex": [
       "A matrix: 6 × 15 of type int\n",
       "\\begin{tabular}{r|lllllllllllllll}\n",
       "  & PAN1A & PAN1B & PAN1C & PAN2A & PAN2B & PAN2C & PAN3A & PAN3B & PAN3C & PAN4A & PAN4B & PAN4C & PAN5A & PAN5B & PAN5C\\\\\n",
       "\\hline\n",
       "\tASV\\_6 &   0 &   0 &    0 &    0 &   0 &   0 &    0 &    0 &   0 &    0 &    0 &    0 &   0 &   0 &   0\\\\\n",
       "\tASV\\_11 & 340 & 435 & 1541 &    0 & 536 & 671 &  185 &  313 & 241 &  491 & 1035 &  549 & 389 & 395 & 208\\\\\n",
       "\tASV\\_13 &   0 &   0 & 2067 &    0 &   0 &   0 & 2729 & 4199 &   0 &    0 &    0 &    0 &   0 &   0 &   0\\\\\n",
       "\tASV\\_21 &   0 &   0 & 1327 &    0 &   0 &   0 &  811 &    0 &  25 & 1655 &  473 &  337 & 140 & 147 & 198\\\\\n",
       "\tASV\\_22 &   0 &   0 &    0 & 4764 &   0 &   0 &    0 &    0 &   0 &    0 &    0 &    0 &   0 &   0 &   0\\\\\n",
       "\tASV\\_25 &  65 &  35 &  783 &    0 &   0 &  77 &    0 &    0 &   0 &  479 &  229 & 2219 &   0 & 159 & 107\\\\\n",
       "\\end{tabular}\n"
      ],
      "text/markdown": [
       "\n",
       "A matrix: 6 × 15 of type int\n",
       "\n",
       "| <!--/--> | PAN1A | PAN1B | PAN1C | PAN2A | PAN2B | PAN2C | PAN3A | PAN3B | PAN3C | PAN4A | PAN4B | PAN4C | PAN5A | PAN5B | PAN5C |\n",
       "|---|---|---|---|---|---|---|---|---|---|---|---|---|---|---|---|\n",
       "| ASV_6 |   0 |   0 |    0 |    0 |   0 |   0 |    0 |    0 |   0 |    0 |    0 |    0 |   0 |   0 |   0 |\n",
       "| ASV_11 | 340 | 435 | 1541 |    0 | 536 | 671 |  185 |  313 | 241 |  491 | 1035 |  549 | 389 | 395 | 208 |\n",
       "| ASV_13 |   0 |   0 | 2067 |    0 |   0 |   0 | 2729 | 4199 |   0 |    0 |    0 |    0 |   0 |   0 |   0 |\n",
       "| ASV_21 |   0 |   0 | 1327 |    0 |   0 |   0 |  811 |    0 |  25 | 1655 |  473 |  337 | 140 | 147 | 198 |\n",
       "| ASV_22 |   0 |   0 |    0 | 4764 |   0 |   0 |    0 |    0 |   0 |    0 |    0 |    0 |   0 |   0 |   0 |\n",
       "| ASV_25 |  65 |  35 |  783 |    0 |   0 |  77 |    0 |    0 |   0 |  479 |  229 | 2219 |   0 | 159 | 107 |\n",
       "\n"
      ],
      "text/plain": [
       "       PAN1A PAN1B PAN1C PAN2A PAN2B PAN2C PAN3A PAN3B PAN3C PAN4A PAN4B PAN4C\n",
       "ASV_6    0     0      0     0    0     0      0     0    0      0     0     0 \n",
       "ASV_11 340   435   1541     0  536   671    185   313  241    491  1035   549 \n",
       "ASV_13   0     0   2067     0    0     0   2729  4199    0      0     0     0 \n",
       "ASV_21   0     0   1327     0    0     0    811     0   25   1655   473   337 \n",
       "ASV_22   0     0      0  4764    0     0      0     0    0      0     0     0 \n",
       "ASV_25  65    35    783     0    0    77      0     0    0    479   229  2219 \n",
       "       PAN5A PAN5B PAN5C\n",
       "ASV_6    0     0     0  \n",
       "ASV_11 389   395   208  \n",
       "ASV_13   0     0     0  \n",
       "ASV_21 140   147   198  \n",
       "ASV_22   0     0     0  \n",
       "ASV_25   0   159   107  "
      ]
     },
     "metadata": {},
     "output_type": "display_data"
    }
   ],
   "source": [
    "head(count_tab)"
   ]
  },
  {
   "cell_type": "code",
   "execution_count": 5,
   "id": "741ee861",
   "metadata": {},
   "outputs": [],
   "source": [
    "#Cambiar direcciones de acuerdo a la dirección donde se situan tus arichivos: direccion/de/la/tabla/de/taxonomia/formato/.tsv"
   ]
  },
  {
   "cell_type": "code",
   "execution_count": 14,
   "id": "ce1d89a9",
   "metadata": {},
   "outputs": [],
   "source": [
    "tax_tab <- load_tax_tab(\"C:/Users/51982/Desktop/23S_test/files/ASVs_taxonomy.tsv\")"
   ]
  },
  {
   "cell_type": "code",
   "execution_count": 15,
   "id": "cb14cabf",
   "metadata": {
    "scrolled": true
   },
   "outputs": [
    {
     "data": {
      "text/html": [
       "<table class=\"dataframe\">\n",
       "<caption>A matrix: 6 × 7 of type chr</caption>\n",
       "<thead>\n",
       "\t<tr><th></th><th scope=col>Kingdom</th><th scope=col>Phylum</th><th scope=col>Class</th><th scope=col>Order</th><th scope=col>Family</th><th scope=col>Genus</th><th scope=col>Species</th></tr>\n",
       "</thead>\n",
       "<tbody>\n",
       "\t<tr><th scope=row>ASV_6</th><td>Eubacteria</td><td>Cyanobacteria  </td><td>Cyanophyceae </td><td>Synechococcales </td><td>Synechococcaceae </td><td>Cyanobium </td><td>NA </td></tr>\n",
       "\t<tr><th scope=row>ASV_11</th><td>Eubacteria</td><td>Cyanobacteria  </td><td>Cyanophyceae </td><td>NA              </td><td>NA               </td><td>NA        </td><td>NA </td></tr>\n",
       "\t<tr><th scope=row>ASV_13</th><td>Chromista </td><td>Cryptophyta    </td><td>Cryptophyceae</td><td>Pyrenomonadales </td><td>Geminigeraceae   </td><td>Guillardia</td><td>NA </td></tr>\n",
       "\t<tr><th scope=row>ASV_21</th><td>Chromista </td><td>Bacillariophyta</td><td>Mediophyceae </td><td>Stephanodiscales</td><td>Stephanodiscaceae</td><td>Cyclotella</td><td>sp.</td></tr>\n",
       "\t<tr><th scope=row>ASV_22</th><td>Chromista </td><td>Cryptophyta    </td><td>Cryptophyceae</td><td>Pyrenomonadales </td><td>Geminigeraceae   </td><td>Guillardia</td><td>NA </td></tr>\n",
       "\t<tr><th scope=row>ASV_25</th><td>Chromista </td><td>Bacillariophyta</td><td>Mediophyceae </td><td>Stephanodiscales</td><td>Stephanodiscaceae</td><td>Cyclotella</td><td>NA </td></tr>\n",
       "</tbody>\n",
       "</table>\n"
      ],
      "text/latex": [
       "A matrix: 6 × 7 of type chr\n",
       "\\begin{tabular}{r|lllllll}\n",
       "  & Kingdom & Phylum & Class & Order & Family & Genus & Species\\\\\n",
       "\\hline\n",
       "\tASV\\_6 & Eubacteria & Cyanobacteria   & Cyanophyceae  & Synechococcales  & Synechococcaceae  & Cyanobium  & NA \\\\\n",
       "\tASV\\_11 & Eubacteria & Cyanobacteria   & Cyanophyceae  & NA               & NA                & NA         & NA \\\\\n",
       "\tASV\\_13 & Chromista  & Cryptophyta     & Cryptophyceae & Pyrenomonadales  & Geminigeraceae    & Guillardia & NA \\\\\n",
       "\tASV\\_21 & Chromista  & Bacillariophyta & Mediophyceae  & Stephanodiscales & Stephanodiscaceae & Cyclotella & sp.\\\\\n",
       "\tASV\\_22 & Chromista  & Cryptophyta     & Cryptophyceae & Pyrenomonadales  & Geminigeraceae    & Guillardia & NA \\\\\n",
       "\tASV\\_25 & Chromista  & Bacillariophyta & Mediophyceae  & Stephanodiscales & Stephanodiscaceae & Cyclotella & NA \\\\\n",
       "\\end{tabular}\n"
      ],
      "text/markdown": [
       "\n",
       "A matrix: 6 × 7 of type chr\n",
       "\n",
       "| <!--/--> | Kingdom | Phylum | Class | Order | Family | Genus | Species |\n",
       "|---|---|---|---|---|---|---|---|\n",
       "| ASV_6 | Eubacteria | Cyanobacteria   | Cyanophyceae  | Synechococcales  | Synechococcaceae  | Cyanobium  | NA  |\n",
       "| ASV_11 | Eubacteria | Cyanobacteria   | Cyanophyceae  | NA               | NA                | NA         | NA  |\n",
       "| ASV_13 | Chromista  | Cryptophyta     | Cryptophyceae | Pyrenomonadales  | Geminigeraceae    | Guillardia | NA  |\n",
       "| ASV_21 | Chromista  | Bacillariophyta | Mediophyceae  | Stephanodiscales | Stephanodiscaceae | Cyclotella | sp. |\n",
       "| ASV_22 | Chromista  | Cryptophyta     | Cryptophyceae | Pyrenomonadales  | Geminigeraceae    | Guillardia | NA  |\n",
       "| ASV_25 | Chromista  | Bacillariophyta | Mediophyceae  | Stephanodiscales | Stephanodiscaceae | Cyclotella | NA  |\n",
       "\n"
      ],
      "text/plain": [
       "       Kingdom    Phylum          Class         Order           \n",
       "ASV_6  Eubacteria Cyanobacteria   Cyanophyceae  Synechococcales \n",
       "ASV_11 Eubacteria Cyanobacteria   Cyanophyceae  NA              \n",
       "ASV_13 Chromista  Cryptophyta     Cryptophyceae Pyrenomonadales \n",
       "ASV_21 Chromista  Bacillariophyta Mediophyceae  Stephanodiscales\n",
       "ASV_22 Chromista  Cryptophyta     Cryptophyceae Pyrenomonadales \n",
       "ASV_25 Chromista  Bacillariophyta Mediophyceae  Stephanodiscales\n",
       "       Family            Genus      Species\n",
       "ASV_6  Synechococcaceae  Cyanobium  NA     \n",
       "ASV_11 NA                NA         NA     \n",
       "ASV_13 Geminigeraceae    Guillardia NA     \n",
       "ASV_21 Stephanodiscaceae Cyclotella sp.    \n",
       "ASV_22 Geminigeraceae    Guillardia NA     \n",
       "ASV_25 Stephanodiscaceae Cyclotella NA     "
      ]
     },
     "metadata": {},
     "output_type": "display_data"
    }
   ],
   "source": [
    "head(tax_tab)"
   ]
  },
  {
   "cell_type": "code",
   "execution_count": 35,
   "id": "410f6fa5",
   "metadata": {},
   "outputs": [],
   "source": [
    "#count_tab <- subset(count_tab, select = -P8PANBLANCO)"
   ]
  },
  {
   "cell_type": "code",
   "execution_count": 18,
   "id": "8b2dca60",
   "metadata": {},
   "outputs": [],
   "source": [
    "#count_tab"
   ]
  },
  {
   "cell_type": "code",
   "execution_count": 16,
   "id": "7174a818",
   "metadata": {},
   "outputs": [],
   "source": [
    "vst_trans_count_tab <- automate_deseq(count_tab, sample_info_tab)"
   ]
  },
  {
   "cell_type": "code",
   "execution_count": 17,
   "id": "549fcafc",
   "metadata": {},
   "outputs": [
    {
     "data": {
      "image/png": "[encoded data removed]",
      "text/plain": [
       "Plot with title \"Dendogram\""
      ]
     },
     "metadata": {
      "image/png": {
       "height": 420,
       "width": 420
      }
     },
     "output_type": "display_data"
    }
   ],
   "source": [
    "plot_dendogram <- create_dendrogram(vst_trans_count_tab, sample_info_tab)"
   ]
  },
  {
   "cell_type": "code",
   "execution_count": 19,
   "id": "440a5e32",
   "metadata": {
    "scrolled": true
   },
   "outputs": [
    {
     "data": {
      "image/png": "[encoded data removed]",
      "text/plain": [
       "plot without title"
      ]
     },
     "metadata": {
      "image/png": {
       "height": 420,
       "width": 420
      }
     },
     "output_type": "display_data"
    }
   ],
   "source": [
    "pcoa_plot <- perform_pcoa(vst_trans_count_tab, sample_info_tab)\n",
    "pcoa_plot"
   ]
  },
  {
   "cell_type": "code",
   "execution_count": 20,
   "id": "ee493a85",
   "metadata": {
    "scrolled": false
   },
   "outputs": [
    {
     "name": "stderr",
     "output_type": "stream",
     "text": [
      "Warning message in estimate_richness(physeq, split = TRUE, measures = measures):\n",
      "\"The data you have provided does not have\n",
      "any singletons. This is highly suspicious. Results of richness\n",
      "estimates (for example) are probably unreliable, or wrong, if you have already\n",
      "trimmed low-abundance taxa from the data.\n",
      "\n",
      "We recommended that you find the un-trimmed data and retry.\"\n"
     ]
    },
    {
     "data": {
      "image/png": "[encoded data removed]",
      "text/plain": [
       "plot without title"
      ]
     },
     "metadata": {
      "image/png": {
       "height": 420,
       "width": 420
      }
     },
     "output_type": "display_data"
    }
   ],
   "source": [
    "richness_plot <- calculate_richness(count_tab, tax_tab, sample_info_tab)\n",
    "richness_plot"
   ]
  },
  {
   "cell_type": "code",
   "execution_count": 27,
   "id": "7bfc4d6d",
   "metadata": {
    "scrolled": true
   },
   "outputs": [
    {
     "data": {
      "image/png": "[encoded data removed]",
      "text/plain": [
       "plot without title"
      ]
     },
     "metadata": {
      "image/png": {
       "height": 420,
       "width": 420
      }
     },
     "output_type": "display_data"
    }
   ],
   "source": [
    "my_stack_plot <- create_stack_plot(count_tab, tax_tab, sample_info_tab, taxrank=\"Class\", threshold=5)\n",
    "my_stack_plot"
   ]
  },
  {
   "cell_type": "code",
   "execution_count": 32,
   "id": "7a05c6ae",
   "metadata": {},
   "outputs": [],
   "source": [
    "heatmap <- heatmap_function(count_tab, tax_tab, sample_info_tab,\n",
    "                           group_by = \"CODE\", \n",
    "                           facet_by = \"TYPE\", \n",
    "                           tax_aggregate = \"Class\",\n",
    "                           tax_add = \"Kingdom\",\n",
    "                           plot_colorscale = \"sqrt\",\n",
    "                           plot_legendbreaks = c(1, 10, 30, 60))"
   ]
  },
  {
   "cell_type": "code",
   "execution_count": 33,
   "id": "5e84926e",
   "metadata": {},
   "outputs": [
    {
     "data": {
      "image/png": "[encoded data removed]",
      "text/plain": [
       "plot without title"
      ]
     },
     "metadata": {
      "image/png": {
       "height": 420,
       "width": 420
      }
     },
     "output_type": "display_data"
    }
   ],
   "source": [
    "heatmap"
   ]
  },
  {
   "cell_type": "code",
   "execution_count": null,
   "id": "c431b723",
   "metadata": {},
   "outputs": [],
   "source": []
  }
 ],
 "metadata": {
  "kernelspec": {
   "display_name": "R",
   "language": "R",
   "name": "ir"
  },
  "language_info": {
   "codemirror_mode": "r",
   "file_extension": ".r",
   "mimetype": "text/x-r-source",
   "name": "R",
   "pygments_lexer": "r",
   "version": "4.1.2"
  }
 },
 "nbformat": 4,
 "nbformat_minor": 5
}
