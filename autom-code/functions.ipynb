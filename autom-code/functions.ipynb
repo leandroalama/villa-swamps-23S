{
 "cells": [
  {
   "cell_type": "code",
   "execution_count": 1,
   "id": "1ccc8de9",
   "metadata": {},
   "outputs": [],
   "source": [
    "load_packages <- function() {\n",
    "  packages <- c(\"tidyverse\", \"phyloseq\", \"DESeq2\", \"dendextend\", \"viridis\", \"ampvis2\", \"data.table\")\n",
    "  lapply(packages, require, character.only = TRUE)\n",
    "}"
   ]
  },
  {
   "cell_type": "code",
   "execution_count": 2,
   "id": "c2d493dc",
   "metadata": {},
   "outputs": [],
   "source": [
    "load_sample_info_tab <- function(file_path_md) {\n",
    "  sample_info_tab <- read.csv(file_path_md, header = TRUE, row.names = 1, check.names = FALSE, sep = \",\")\n",
    "  sample_info_tab$color <- as.character(sample_info_tab$COLOUR)\n",
    "  return(sample_info_tab)\n",
    "}"
   ]
  },
  {
   "cell_type": "code",
   "execution_count": 3,
   "id": "d4434473",
   "metadata": {},
   "outputs": [],
   "source": [
    "load_count_tab <- function(file_path_ct) {\n",
    "    count_tab <- as.matrix(read.table(file_path_ct, header = T, \n",
    "                           row.names = 1, check.names = F, sep = \"\\t\"))\n",
    "    return(count_tab)\n",
    "}"
   ]
  },
  {
   "cell_type": "code",
   "execution_count": 4,
   "id": "0603c209",
   "metadata": {},
   "outputs": [],
   "source": [
    "load_tax_tab <- function(file_path_tt) {\n",
    "    tax_tab <- as.matrix(read.table(file_path_tt, header=T,\n",
    "                                    row.names=1, check.names=F, sep=\"\\t\"))\n",
    "    return(tax_tab)\n",
    "}"
   ]
  },
  {
   "cell_type": "code",
   "execution_count": 5,
   "id": "bec38ae9",
   "metadata": {},
   "outputs": [],
   "source": [
    "automate_deseq <- function(count_tab, sample_info_tab){\n",
    "    \n",
    "  deseq_counts <- DESeqDataSetFromMatrix(count_tab, colData = sample_info_tab, design = ~1)\n",
    "  deseq_counts <- estimateSizeFactors(deseq_counts, type = \"poscounts\")\n",
    "  deseq_counts_vst <- varianceStabilizingTransformation(deseq_counts)\n",
    "  vst_trans_count_tab <- assay(deseq_counts_vst)\n",
    "  return(vst_trans_count_tab)\n",
    "}\n",
    "\n"
   ]
  },
  {
   "cell_type": "code",
   "execution_count": 6,
   "id": "a1660059",
   "metadata": {},
   "outputs": [],
   "source": [
    "create_dendrogram <- function(data, sample_info_tab) {\n",
    "  euc_dist <- dist(t(data))\n",
    "  euc_clust <- hclust(euc_dist, method=\"ward.D2\")\n",
    "  euc_dend <- as.dendrogram(euc_clust, hang=0.1)\n",
    "  dend_cols <- as.character(sample_info_tab$color[order.dendrogram(euc_dend)])\n",
    "  labels_colors(euc_dend) <- dend_cols\n",
    "  plot(euc_dend, main=\"Dendogram\", ylab=\"VST Euc. dist.\")\n",
    "}"
   ]
  },
  {
   "cell_type": "code",
   "execution_count": 7,
   "id": "784eeb3d",
   "metadata": {},
   "outputs": [],
   "source": [
    "create_phyloseq <- function(count_tab, sample_info_tab) {\n",
    "  vst_count_phy <- otu_table(count_tab, taxa_are_rows=T)\n",
    "  sample_info_tab_phy <- sample_data(sample_info_tab)\n",
    "  vst_physeq <- phyloseq(vst_count_phy, sample_info_tab_phy)\n",
    "  return(vst_physeq)\n",
    "}"
   ]
  },
  {
   "cell_type": "code",
   "execution_count": 8,
   "id": "f9770019",
   "metadata": {},
   "outputs": [],
   "source": [
    "get_pcoa_eigenvals <- function(physeq) {\n",
    "  vst_pcoa <- ordinate(physeq, method=\"MDS\", distance=\"euclidean\")\n",
    "  eigen_vals <- vst_pcoa$values$Eigenvalues\n",
    "  return(eigen_vals)\n",
    "}"
   ]
  },
  {
   "cell_type": "code",
   "execution_count": 9,
   "id": "6ee0253d",
   "metadata": {},
   "outputs": [],
   "source": [
    "perform_pcoa <- function(count_tab, sample_info) {\n",
    "  # Crear objeto phyloseq\n",
    "  count_phy <- otu_table(count_tab, taxa_are_rows=T)\n",
    "  sample_info_phy <- sample_data(sample_info)\n",
    "  physeq <- phyloseq(count_phy, sample_info_phy)\n",
    "  \n",
    "  # Realizar PCoA\n",
    "  pcoa <- ordinate(physeq, method=\"MDS\", distance=\"euclidean\")\n",
    "  eigen_vals <- pcoa$values$Eigenvalues \n",
    "  \n",
    "  # Crear gráfico\n",
    "  plot_ordination(physeq, pcoa, color=\"TYPE\") + \n",
    "    geom_point(size=1) + labs(col=\"TYPE\") + \n",
    "    geom_text(aes(label=rownames(sample_info_phy), hjust=0.3, vjust=-0.4)) + \n",
    "    coord_fixed(sqrt(eigen_vals[2]/eigen_vals[1])) + ggtitle(\"PCoA\") + \n",
    "    scale_color_manual(values=unique(sample_info$COLOUR[order(sample_info$COLOUR)])) + \n",
    "    theme(legend.text = element_text(size=10))\n",
    "}"
   ]
  },
  {
   "cell_type": "code",
   "execution_count": 10,
   "id": "f572b734",
   "metadata": {
    "scrolled": true
   },
   "outputs": [],
   "source": [
    "calculate_richness <- function(count_tab, tax_tab, sample_info_tab, x_var=\"TYPE\", color_var=\"TYPE\", measures=c(\"Chao1\", \"Shannon\", \"Simpson\")) {\n",
    "  \n",
    "  # Crear objeto phyloseq\n",
    "  count_tab_phy <- otu_table(count_tab, taxa_are_rows=T)\n",
    "  tax_tab_phy <- tax_table(tax_tab)\n",
    "  sample_info_tab_phy <- sample_data(sample_info_tab)\n",
    "  ASV_physeq <- phyloseq(count_tab_phy, tax_tab_phy, sample_info_tab_phy)\n",
    "  \n",
    "  # Calcular riqueza\n",
    "  richness <- plot_richness(ASV_physeq, x = x_var , color = color_var, measures = measures) + geom_boxplot()\n",
    "  \n",
    "  return(richness)\n",
    "}\n"
   ]
  },
  {
   "cell_type": "code",
   "execution_count": 11,
   "id": "f842f3c5",
   "metadata": {},
   "outputs": [],
   "source": [
    "create_stack_plot <- function(count_tab, tax_tab, sample_info_tab, taxrank=\"class\", threshold=5) {\n",
    "  # create phyloseq object\n",
    "  count_tab_phy <- otu_table(count_tab, taxa_are_rows=T)\n",
    "  tax_tab_phy <- tax_table(tax_tab)\n",
    "  sample_info_tab_phy <- sample_data(sample_info_tab)\n",
    "  ASV_physeq <- phyloseq(count_tab_phy, tax_tab_phy, sample_info_tab_phy)\n",
    "  \n",
    "  # calculate proportions by taxonomic group\n",
    "  clases_counts_tab <- otu_table(tax_glom(ASV_physeq, taxrank=taxrank))\n",
    "  clases_tax_vec <- as.vector(tax_table(tax_glom(ASV_physeq, taxrank=taxrank))[,3])\n",
    "  rownames(clases_counts_tab) <- as.vector(clases_tax_vec)\n",
    "  unclassified2_tax_counts <- colSums(count_tab) - colSums(clases_counts_tab)\n",
    "  clases_and_unidentified_counts_tab <- rbind(clases_counts_tab, \"Unclassified\"=unclassified2_tax_counts)\n",
    "  clases_taxa_counts_tab <- clases_and_unidentified_counts_tab\n",
    "  clases_taxa_proportions_tab <- apply(clases_taxa_counts_tab, 2, function(x) x/sum(x)*100)\n",
    "  \n",
    "  # filter by threshold and create \"Other\" category\n",
    "  temp_filt_clases_taxa_proportions_tab <- data.frame(clases_taxa_proportions_tab[apply(clases_taxa_proportions_tab, 1, max) > threshold, ])\n",
    "  filtered2_proportions <- colSums(clases_taxa_proportions_tab) - colSums(temp_filt_clases_taxa_proportions_tab) \n",
    "  filt_clases_taxa_proportions_tab <- rbind(temp_filt_clases_taxa_proportions_tab, \"Other\"=filtered2_proportions)\n",
    "  clases_stack <- filt_clases_taxa_proportions_tab\n",
    "  clases_stack$Major_Taxa <- row.names(clases_stack)\n",
    "  clases_stack.g <- gather(clases_stack, Sample, Proportion, -Major_Taxa)\n",
    "  \n",
    "  # create plot\n",
    "  datos_stack<-data.frame(\"Sample\"=row.names(sample_info_tab), \"char\"=sample_info_tab$TYPE, \"color\"=sample_info_tab$color, stringsAsFactors=F) \n",
    "  stack_plot <- ggplot(clases_stack.g, aes(x=Sample, y=Proportion, fill=Major_Taxa)) +\n",
    "    geom_bar(width=0.6, stat=\"identity\") +\n",
    "    theme_bw() +\n",
    "    theme(axis.text.x=element_text(angle=90, vjust=0.4, hjust=1), legend.title=element_blank()) +\n",
    "    labs(x=\"Sample\", y=\"% of 16S rRNA gene copies recovered\", title=\"All samples\") +\n",
    "    facet_grid(~1, scales = 'free_x', space = 'free_x')\n",
    "  \n",
    "  return(stack_plot)\n",
    "}"
   ]
  },
  {
   "cell_type": "code",
   "execution_count": 12,
   "id": "e605aff9",
   "metadata": {},
   "outputs": [],
   "source": [
    "heatmap_function <- function(count_tab, tax_tab, sample_info_tab,\n",
    "                         group_by, facet_by, tax_aggregate, tax_add,\n",
    "                         plot_colorscale, plot_legendbreaks){\n",
    "  \n",
    "  #Convertir datos en phyloseq object\n",
    "  count_tab_phy <- otu_table(count_tab, taxa_are_rows=T)\n",
    "  tax_tab_phy <- tax_table(tax_tab)\n",
    "  sample_info_tab_phy <- sample_data(sample_info_tab)\n",
    "  ASV_physeq <- phyloseq(count_tab_phy, tax_tab_phy, sample_info_tab_phy)\n",
    "  \n",
    "  #Crear otutable y metadataX\n",
    "  otutable <- data.frame(OTU = rownames(phyloseq::otu_table(ASV_physeq)@.Data),\n",
    "                         phyloseq::otu_table(ASV_physeq)@.Data,\n",
    "                         phyloseq::tax_table(ASV_physeq)@.Data,\n",
    "                         check.names = FALSE)\n",
    "  \n",
    "  metadataX <- data.frame(phyloseq::sample_data(ASV_physeq), \n",
    "                           check.names = FALSE)\n",
    "  \n",
    "  metadataX <-setDT(metadataX, keep.rownames = TRUE)[]\n",
    "  \n",
    "  #Cargar datos en ampvis2\n",
    "  av2 <- amp_load(otutable, metadataX)\n",
    "  \n",
    "  #Crear heatmap con ampvis2\n",
    "  heat_map_plot <- amp_heatmap(av2, \n",
    "                               group_by = group_by, \n",
    "                               facet_by = facet_by, \n",
    "                               plot_values = FALSE,\n",
    "                               tax_show = 10,\n",
    "                               tax_aggregate = tax_aggregate,\n",
    "                               tax_add = tax_add,\n",
    "                               plot_colorscale = plot_colorscale,\n",
    "                               plot_legendbreaks = plot_legendbreaks)\n",
    "  \n",
    "  return(heat_map_plot)\n",
    "}"
   ]
  },
  {
   "cell_type": "code",
   "execution_count": 13,
   "id": "5893cdda",
   "metadata": {
    "scrolled": false
   },
   "outputs": [
    {
     "name": "stderr",
     "output_type": "stream",
     "text": [
      "Warning message in save(file = \"funcionezz.R\"):\n",
      "\"nothing specified to be save()d\"\n"
     ]
    }
   ],
   "source": []
  },
  {
   "cell_type": "code",
   "execution_count": null,
   "id": "48ec50be",
   "metadata": {},
   "outputs": [],
   "source": []
  },
  {
   "cell_type": "code",
   "execution_count": null,
   "id": "54708fa5",
   "metadata": {},
   "outputs": [],
   "source": []
  },
  {
   "cell_type": "code",
   "execution_count": null,
   "id": "3cb453fd",
   "metadata": {},
   "outputs": [],
   "source": []
  }
 ],
 "metadata": {
  "kernelspec": {
   "display_name": "R",
   "language": "R",
   "name": "ir"
  },
  "language_info": {
   "codemirror_mode": "r",
   "file_extension": ".r",
   "mimetype": "text/x-r-source",
   "name": "R",
   "pygments_lexer": "r",
   "version": "4.1.2"
  }
 },
 "nbformat": 4,
 "nbformat_minor": 5
}
